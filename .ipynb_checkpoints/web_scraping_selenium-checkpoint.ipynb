{
 "cells": [
  {
   "cell_type": "code",
   "execution_count": 3,
   "id": "646e9452",
   "metadata": {},
   "outputs": [
    {
     "name": "stdout",
     "output_type": "stream",
     "text": [
      "Requirement already satisfied: selenium in d:\\anaconda\\lib\\site-packages (4.5.0)\n",
      "Requirement already satisfied: certifi>=2021.10.8 in d:\\anaconda\\lib\\site-packages (from selenium) (2022.9.24)\n",
      "Requirement already satisfied: trio-websocket~=0.9 in d:\\anaconda\\lib\\site-packages (from selenium) (0.9.2)\n",
      "Requirement already satisfied: urllib3[socks]~=1.26 in d:\\anaconda\\lib\\site-packages (from selenium) (1.26.4)\n",
      "Requirement already satisfied: trio~=0.17 in d:\\anaconda\\lib\\site-packages (from selenium) (0.22.0)\n",
      "Requirement already satisfied: async-generator>=1.9 in d:\\anaconda\\lib\\site-packages (from trio~=0.17->selenium) (1.10)\n",
      "Requirement already satisfied: exceptiongroup>=1.0.0rc9 in d:\\anaconda\\lib\\site-packages (from trio~=0.17->selenium) (1.0.0rc9)\n",
      "Requirement already satisfied: cffi>=1.14 in d:\\anaconda\\lib\\site-packages (from trio~=0.17->selenium) (1.14.5)\n",
      "Requirement already satisfied: sniffio in d:\\anaconda\\lib\\site-packages (from trio~=0.17->selenium) (1.2.0)\n",
      "Requirement already satisfied: idna in d:\\anaconda\\lib\\site-packages (from trio~=0.17->selenium) (2.10)\n",
      "Requirement already satisfied: attrs>=19.2.0 in d:\\anaconda\\lib\\site-packages (from trio~=0.17->selenium) (20.3.0)\n",
      "Requirement already satisfied: outcome in d:\\anaconda\\lib\\site-packages (from trio~=0.17->selenium) (1.2.0)\n",
      "Requirement already satisfied: sortedcontainers in d:\\anaconda\\lib\\site-packages (from trio~=0.17->selenium) (2.3.0)\n",
      "Requirement already satisfied: pycparser in d:\\anaconda\\lib\\site-packages (from cffi>=1.14->trio~=0.17->selenium) (2.20)\n",
      "Requirement already satisfied: wsproto>=0.14 in d:\\anaconda\\lib\\site-packages (from trio-websocket~=0.9->selenium) (1.2.0)\n",
      "Requirement already satisfied: PySocks!=1.5.7,<2.0,>=1.5.6 in d:\\anaconda\\lib\\site-packages (from urllib3[socks]~=1.26->selenium) (1.7.1)\n",
      "Requirement already satisfied: h11<1,>=0.9.0 in d:\\anaconda\\lib\\site-packages (from wsproto>=0.14->trio-websocket~=0.9->selenium) (0.14.0)\n"
     ]
    }
   ],
   "source": [
    "!pip install selenium"
   ]
  },
  {
   "cell_type": "code",
   "execution_count": 1,
   "id": "0828aeef",
   "metadata": {},
   "outputs": [],
   "source": [
    "from selenium import webdriver\n",
    "import time\n",
    "from selenium.webdriver.support.select import Select\n",
    "from selenium.webdriver.chrome.service import Service"
   ]
  },
  {
   "cell_type": "code",
   "execution_count": 2,
   "id": "ae972d86",
   "metadata": {},
   "outputs": [],
   "source": [
    "with open('video_game.csv', 'w', encoding = 'utf-8') as file:\n",
    "    file.write(\"game_title; description; game_genre; year_of_production \\n\")\n",
    "\n",
    "driver_service = Service(executable_path='C:\\webdrivers\\chromedriver.exe')\n",
    "driver = webdriver.Chrome(service=driver_service)\n",
    "\n",
    "driver.get('https://www.imdb.com/search/title/?title_type=game&sort=user_rating,desc')\n",
    "\n",
    "driver.maximize_window()\n",
    "   \n",
    "for page in range(651):\n",
    "    game_title = driver.find_elements('xpath','//div[@class=\"lister-item-content\"]/h3/a')\n",
    "    description = driver.find_elements('xpath','//div[@class=\"lister-item-content\"]/p[@class=\"text-muted\"]')\n",
    "    game_genre = driver.find_elements('xpath','//div[@class=\"lister-item-content\"]/p/span[@class=\"genre\"]')\n",
    "    year_of_production = driver.find_elements('xpath','//div[@class=\"lister-item-content\"]/h3/span[@class=\"lister-item-year text-muted unbold\"]')\n",
    "    director = driver.find_elements('xpath','//div[@class=\"lister-item-content\"]/p[@class=\"\"]')\n",
    "    with open('video_game.csv', 'a', encoding = 'utf-8') as file:\n",
    "        for x in range(len(game_genre)):\n",
    "            file.write(game_title[x].text + \";\" + description[x].text + \";\" + game_genre[x].text + \";\" + year_of_production[x].text + \";\" + director[x].text + \"\\n\")\n",
    "    \n",
    "        next_page = driver.find_element('xpath','//div[@class=\"desc\"]/a[@class=\"lister-page-next next-page\"]').click()\n",
    "    file.close()\n",
    "\n",
    "driver.close()"
   ]
  },
  {
   "cell_type": "code",
   "execution_count": null,
   "id": "45be00de",
   "metadata": {},
   "outputs": [],
   "source": []
  }
 ],
 "metadata": {
  "kernelspec": {
   "display_name": "Python 3",
   "language": "python",
   "name": "python3"
  },
  "language_info": {
   "codemirror_mode": {
    "name": "ipython",
    "version": 3
   },
   "file_extension": ".py",
   "mimetype": "text/x-python",
   "name": "python",
   "nbconvert_exporter": "python",
   "pygments_lexer": "ipython3",
   "version": "3.8.8"
  }
 },
 "nbformat": 4,
 "nbformat_minor": 5
}
